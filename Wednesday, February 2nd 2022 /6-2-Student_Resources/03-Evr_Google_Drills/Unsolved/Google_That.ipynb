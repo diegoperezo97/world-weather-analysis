{
 "cells": [
  {
   "cell_type": "code",
   "execution_count": null,
   "metadata": {},
   "outputs": [],
   "source": [
    "# Create code to answer each of the following questions.\n",
    "# Hint: You will need multiple target URLs and multiple API requests:\n",
    "\n",
    "# Import dependencies:\n",
    "import requests\n",
    "import json\n",
    "\n",
    "# Retrieve Google API key from config.py:\n",
    "from config import gkey"
   ]
  },
  {
   "cell_type": "code",
   "execution_count": null,
   "metadata": {},
   "outputs": [],
   "source": [
    "# 1. What are the geocoordinates (latitude/longitude) of Seattle, Washington?\n",
    "target_city = \"Seattle, Washington\"\n",
    "params = {\"address\": target_city, \"key\": gkey}\n",
    "base_url = \"https://maps.googleapis.com/maps/api/geocode/json\"\n",
    "response = requests.get(base_url, params=params)\n",
    "response_json = response.json()\n",
    "lat = response_json[\"results\"][0][\"geometry\"][\"location\"][\"lat\"]\n",
    "lng = response_json[\"results\"][0][\"geometry\"][\"location\"][\"lng\"]\n",
    "print(f\"{target} location: {lat}, {lng}\")"
   ]
  },
  {
   "cell_type": "code",
   "execution_count": null,
   "metadata": {},
   "outputs": [],
   "source": [
    "# 2. What are the geocoordinates (latitude/longitude) of The White House?\n",
    "target_city = \"The White House\"\n",
    "params = {\"address\": target_city, \"key\": gkey}\n",
    "base_url = \"https://maps.googleapis.com/maps/api/geocode/json\"\n",
    "response = requests.get(base_url, params=params)\n",
    "response_json = response.json()\n",
    "lat = response_json[\"results\"][0][\"geometry\"][\"location\"][\"lat\"]\n",
    "lng = response_json[\"results\"][0][\"geometry\"][\"location\"][\"lng\"]\n",
    "print(f\"{target} location: {lat}, {lng}\")"
   ]
  },
  {
   "cell_type": "code",
   "execution_count": null,
   "metadata": {},
   "outputs": [],
   "source": [
    "# 3. Find the name and address of a bike store in Seattle, Washington:\n",
    "# Hint: See https://developers.google.com/places/web-service/supported_types\n",
    "seattle_coords = \"47.6062095, -122.3320708\"\n",
    "target_type = \"bicycle_store\"\n",
    "radius = 800\n",
    "params = {\n",
    "    \"location\": seattle_coords,\n",
    "    \"types\": target_type,\n",
    "    \"radius\": radius,\n",
    "    \"key\": gkey\n",
    "}\n",
    "base_url = \"https://maps.googleapis.com/maps/api/place/nearbysearch/json\"\n",
    "response = requests.get(base_url, params=params)\n",
    "seattle_bikes = response.json()\n",
    "\n",
    "for place in seattle_bikes[\"results\"]:\n",
    "    print(place[\"vicinity\"])\n",
    "    print(place[\"name\"])\n",
    "    print(\"------------------------------\")"
   ]
  },
  {
   "cell_type": "code",
   "execution_count": null,
   "metadata": {},
   "outputs": [],
   "source": [
    "# 4. Find a balloon store near the White House:\n",
    "target_search = \"Balloon Store\"\n",
    "white_house_coords = \"38.8976763, -77.0365298\"\n",
    "radius = 800\n",
    "params = {\n",
    "    \"location\": white_house_coords,\n",
    "    \"keyword\": target_type,\n",
    "    \"radius\": radius,\n",
    "    \"key\": gkey\n",
    "}\n",
    "base_url = \"https://maps.googleapis.com/maps/api/place/nearbysearch/json\"\n",
    "response = requests.get(base_url, params=params)\n",
    "seattle_bikes = response.json()\n",
    "\n",
    "for place in seattle_bikes:\n",
    "    print(place[\"vicinity\"])\n",
    "    print(place[\"name\"])\n",
    "    print(\"------------------------------\")"
   ]
  },
  {
   "cell_type": "code",
   "execution_count": null,
   "metadata": {},
   "outputs": [],
   "source": [
    "# 5. Find the nearest dentist to your house.\n",
    "#    Hint: Use Google Maps to find your latitude and Google Places to find the\n",
    "#    dentist. You will also need the rankby property.\n",
    "\n",
    "my_location = \"19.41377786708475, -99.25041899601987\"\n",
    "target_type = \"dentist\"\n",
    "radius = 3000\n",
    "params = {\n",
    "    \"location\": my_location,\n",
    "    \"types\": target_type,\n",
    "    \"rankby\": \"distance\",\n",
    "    \"radius\": radius,\n",
    "    \"key\": gkey\n",
    "}\n",
    "base_url = \"https://maps.googleapis.com/maps/api/place/nearbysearch/json\"\n",
    "response = requests.get(base_url, params=params)\n",
    "near_dentists = response.json()\n",
    "\n",
    "for dentist in near_dentists [\"results\"]:\n",
    "    print(place[\"vicinity\"])\n",
    "    print(place[\"name\"])\n",
    "    print(\"------------------------------\")"
   ]
  }
 ],
 "metadata": {
  "kernelspec": {
   "display_name": "Python 3",
   "language": "python",
   "name": "python3"
  },
  "language_info": {
   "codemirror_mode": {
    "name": "ipython",
    "version": 3
   },
   "file_extension": ".py",
   "mimetype": "text/x-python",
   "name": "python",
   "nbconvert_exporter": "python",
   "pygments_lexer": "ipython3",
   "version": "3.9.7"
  }
 },
 "nbformat": 4,
 "nbformat_minor": 2
}
