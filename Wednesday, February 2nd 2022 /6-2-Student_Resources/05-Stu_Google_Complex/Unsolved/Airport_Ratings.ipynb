{
 "cells": [
  {
   "cell_type": "code",
   "execution_count": null,
   "metadata": {},
   "outputs": [],
   "source": [
    "# Dependencies\n",
    "import pandas as pd\n",
    "import numpy as np\n",
    "import requests\n",
    "import json\n",
    "\n",
    "# Import API key\n",
    "from config import gkey"
   ]
  },
  {
   "cell_type": "code",
   "execution_count": null,
   "metadata": {},
   "outputs": [],
   "source": [
    "# Import cities file into the cities_pd DataFrame\n",
    "cities_df = pd.read_csv(\"/Users/diegoperezo97/Documents/Tecnológico de Monterrey – Data Analytics Boot Camp/world-weather-analysis/Module 6/Wednesday, February 2nd 2022 /6-2-Student_Resources/05-Stu_Google_Complex/Resources/Cities.csv\")\n",
    "cities_df = cities_df.rename(columns={\"City\": \"city\", \"State\": \"state\"})\n",
    "cities_df.head()"
   ]
  },
  {
   "cell_type": "code",
   "execution_count": null,
   "metadata": {},
   "outputs": [],
   "source": [
    "# Add columns for lat, lng, airport name, airport address, airport rating:\n",
    "# Hint: Be sure to specify \"\" as the initial value for each column.\n",
    "cities_df[\"lat\"] = \"\"\n",
    "cities_df[\"lng\"] = \"\"\n",
    "cities_df[\"airport_name\"] = \"\"\n",
    "cities_df[\"airport_address\"] = \"\"\n",
    "cities_df[\"airport_rating\"] = \"\""
   ]
  },
  {
   "cell_type": "code",
   "execution_count": null,
   "metadata": {
    "scrolled": true
   },
   "outputs": [],
   "source": [
    "# Loop through the cities_pd and get the lat/long for each city\n",
    "# Hint: `requests.get(target_url).json()`\n",
    "# Hint: `for index, row in cities_df.iterrows():`\n",
    "# Hint: `cities_pd.loc`\n",
    "params = {\"key\": gkey}\n",
    "\n",
    "for index, row in cities_df.iterrows():\n",
    "    base_url = \"https://maps.googleapis.com/maps/api/geocode/json\"\n",
    "    city = row[\"city\"]\n",
    "    state = row[\"state\"]\n",
    "    params[\"address\"] = f\"{city},{state}\"\n",
    "    response = requests.get(base_url, params=params).json()\n",
    "    cities_df.loc[index, \"lat\"] = response[\"results\"][0][\"geometry\"][\"location\"][\"lat\"]\n",
    "    cities_df.loc[index, \"lng\"] = response[\"results\"][0][\"geometry\"][\"location\"][\"lng\"]\n",
    "    \n",
    "cities_df.head()"
   ]
  },
  {
   "cell_type": "code",
   "execution_count": null,
   "metadata": {
    "scrolled": false
   },
   "outputs": [],
   "source": [
    "# Use the lat/lng we recovered to identify airports\n",
    "# Hint: Code is similar to above block (i.e. you will need to use cities_pd.iterrows() again)\n",
    "# Hint: Use the keyword search for \"international+airport\"\n",
    "# Hint: Use a try-except to handle airports that are missing ratings\n",
    "params = {\"key\": gkey, \"radius\": 50000, \"types\": \"airport\", \"keyword\": \"international airport\"}\n",
    "\n",
    "for index, row in cities_df.iterrows():\n",
    "    base_url = \"https://maps.googleapis.com/maps/api/place/nearbysearch/json\"\n",
    "    lat = row[\"lat\"]\n",
    "    lng = row[\"lng\"]\n",
    "    params[\"location\"] = f\"{lat},{lng}\"\n",
    "    response = requests.get(base_url, params=params).json()\n",
    "    try:\n",
    "        cities_df.loc[index, \"airport_name\"] = response[\"results\"][0][\"name\"]\n",
    "        cities_df.loc[index, \"airport_address\"] = response[\"results\"][0][\"vicinity\"]\n",
    "        cities_df.loc[index, \"airport_rating\"] = response[\"results\"][0][\"rating\"]\n",
    "    except (KeyError, IndexError):\n",
    "        print(\"Missing field/result... skipping\")"
   ]
  },
  {
   "cell_type": "code",
   "execution_count": null,
   "metadata": {},
   "outputs": [],
   "source": [
    "# Visualize to confirm airport data appears:\n",
    "cities_df.head()\n",
    "\n",
    "# Save Data to csv:\n",
    "cities_df.to_csv(\"/Users/diegoperezo97/Documents/Tecnológico de Monterrey – Data Analytics Boot Camp/world-weather-analysis/Module 6/Wednesday, February 2nd 2022 /6-2-Student_Resources/05-Stu_Google_Complex/Resources/CitiesComplete.csv\")"
   ]
  }
 ],
 "metadata": {
  "anaconda-cloud": {},
  "kernelspec": {
   "display_name": "Python 3",
   "language": "python",
   "name": "python3"
  },
  "language_info": {
   "codemirror_mode": {
    "name": "ipython",
    "version": 3
   },
   "file_extension": ".py",
   "mimetype": "text/x-python",
   "name": "python",
   "nbconvert_exporter": "python",
   "pygments_lexer": "ipython3",
   "version": "3.9.7"
  }
 },
 "nbformat": 4,
 "nbformat_minor": 1
}
