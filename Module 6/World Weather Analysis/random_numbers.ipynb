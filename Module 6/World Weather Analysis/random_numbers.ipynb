{
 "cells": [
  {
   "cell_type": "code",
   "execution_count": 1,
   "id": "4b204657",
   "metadata": {},
   "outputs": [],
   "source": [
    "# Import dependencies:\n",
    "import random\n",
    "import numpy as np\n",
    "import timeit"
   ]
  },
  {
   "cell_type": "code",
   "execution_count": 2,
   "id": "61a9aa6b",
   "metadata": {},
   "outputs": [
    {
     "data": {
      "text/plain": [
       "64"
      ]
     },
     "execution_count": 2,
     "metadata": {},
     "output_type": "execute_result"
    }
   ],
   "source": [
    "random.randint(-90, 90)"
   ]
  },
  {
   "cell_type": "code",
   "execution_count": 3,
   "id": "c61c61c3",
   "metadata": {},
   "outputs": [
    {
     "data": {
      "text/plain": [
       "0.11189589266837752"
      ]
     },
     "execution_count": 3,
     "metadata": {},
     "output_type": "execute_result"
    }
   ],
   "source": [
    "random.random()"
   ]
  },
  {
   "cell_type": "code",
   "execution_count": 4,
   "id": "ae2b3a14",
   "metadata": {},
   "outputs": [
    {
     "data": {
      "text/plain": [
       "58.732897962479186"
      ]
     },
     "execution_count": 4,
     "metadata": {},
     "output_type": "execute_result"
    }
   ],
   "source": [
    "random_number = random.randint(-90, 89) + random.random()\n",
    "random_number"
   ]
  },
  {
   "cell_type": "code",
   "execution_count": 5,
   "id": "df8edc5c",
   "metadata": {},
   "outputs": [
    {
     "data": {
      "text/plain": [
       "[87.79520756883498,\n",
       " -21.16093251986549,\n",
       " -45.443003302894255,\n",
       " -69.55413057729524,\n",
       " -39.2810294041952,\n",
       " -71.11180326223214,\n",
       " 1.1897199438059767,\n",
       " -25.131996417765478,\n",
       " -9.309146097670823,\n",
       " 13.45489528216834]"
      ]
     },
     "execution_count": 5,
     "metadata": {},
     "output_type": "execute_result"
    }
   ],
   "source": [
    "x = 1 \n",
    "latitudes = []\n",
    "while x < 11:\n",
    "    random_lat = random.randint(-90, 89) + random.random()\n",
    "    latitudes.append(random_lat)\n",
    "    x += 1\n",
    "latitudes"
   ]
  },
  {
   "cell_type": "code",
   "execution_count": 6,
   "id": "f2a6a468",
   "metadata": {},
   "outputs": [
    {
     "data": {
      "text/plain": [
       "-41"
      ]
     },
     "execution_count": 6,
     "metadata": {},
     "output_type": "execute_result"
    }
   ],
   "source": [
    "random.randrange(-90, 90, step=1)"
   ]
  },
  {
   "cell_type": "code",
   "execution_count": 7,
   "id": "10c6e5bf",
   "metadata": {},
   "outputs": [
    {
     "data": {
      "text/plain": [
       "3"
      ]
     },
     "execution_count": 7,
     "metadata": {},
     "output_type": "execute_result"
    }
   ],
   "source": [
    "random.randrange(-90, 90, step=3)"
   ]
  },
  {
   "cell_type": "code",
   "execution_count": 8,
   "id": "c08bbc46",
   "metadata": {},
   "outputs": [
    {
     "data": {
      "text/plain": [
       "2.749795677609825"
      ]
     },
     "execution_count": 8,
     "metadata": {},
     "output_type": "execute_result"
    }
   ],
   "source": [
    "random.uniform(-90, 90)"
   ]
  },
  {
   "cell_type": "code",
   "execution_count": 9,
   "id": "9c57243e",
   "metadata": {},
   "outputs": [
    {
     "data": {
      "text/plain": [
       "array([-1.38449372e+01, -4.48615013e+00, -4.07209825e+01,  6.88239870e+01,\n",
       "       -7.85914002e+00,  3.88588708e+01, -8.06264973e+01,  8.66228523e+01,\n",
       "        5.33796440e+01, -2.65275126e+01, -5.78076155e+01, -1.69336598e+00,\n",
       "        3.47647781e+01,  3.47302007e+01,  1.53982858e+01, -5.69608036e+01,\n",
       "        6.42904712e+01, -8.58737237e+01,  8.80247603e+01,  5.12660223e+01,\n",
       "       -6.65999022e+01, -1.32302645e+01, -8.59926427e+00,  7.06341938e+01,\n",
       "        1.61344255e+01,  6.68077699e+01,  1.96531806e+01, -6.26998947e+00,\n",
       "       -7.92529345e+01, -2.91102869e+01,  3.50528326e+01,  2.89303684e+01,\n",
       "        7.69469230e+01,  2.43858255e+01,  8.05353410e+01,  5.61124563e+00,\n",
       "        1.28884381e+01, -4.52351849e+01, -8.10855973e+01, -7.79643001e+00,\n",
       "        4.23560307e+01, -2.89094154e-02,  1.18686032e+01,  8.43997866e+01,\n",
       "       -6.43562951e+01,  6.96171508e+01,  1.91539106e+00,  8.96227140e+01,\n",
       "       -6.32712315e+00, -4.98438066e+01])"
      ]
     },
     "execution_count": 9,
     "metadata": {},
     "output_type": "execute_result"
    }
   ],
   "source": [
    "np.random.uniform(-90.000, 90.000, size=50)"
   ]
  },
  {
   "cell_type": "code",
   "execution_count": 10,
   "id": "473797ea",
   "metadata": {},
   "outputs": [
    {
     "name": "stdout",
     "output_type": "stream",
     "text": [
      "24.7 µs ± 4.31 µs per loop (mean ± std. dev. of 7 runs, 10000 loops each)\n"
     ]
    }
   ],
   "source": [
    "%timeit np.random.uniform(-90.000, 90.000, size=1500)"
   ]
  },
  {
   "cell_type": "code",
   "execution_count": 11,
   "id": "383d56ba",
   "metadata": {},
   "outputs": [
    {
     "name": "stdout",
     "output_type": "stream",
     "text": [
      "1.94 ms ± 21.4 µs per loop (mean ± std. dev. of 7 runs, 1000 loops each)\n"
     ]
    }
   ],
   "source": [
    "def latitudes(size):\n",
    "    latitudes = []\n",
    "    x = 0\n",
    "    while x < (size):\n",
    "        random_lat = random.randint(-90, 90) + random.random()\n",
    "        latitudes.append(random_lat)\n",
    "        x += 1\n",
    "    return latitudes\n",
    "\n",
    "# Call the function with 1500:\n",
    "%timeit latitudes(1500)"
   ]
  }
 ],
 "metadata": {
  "kernelspec": {
   "display_name": "Python 3",
   "language": "python",
   "name": "python3"
  },
  "language_info": {
   "codemirror_mode": {
    "name": "ipython",
    "version": 3
   },
   "file_extension": ".py",
   "mimetype": "text/x-python",
   "name": "python",
   "nbconvert_exporter": "python",
   "pygments_lexer": "ipython3",
   "version": "3.9.7"
  }
 },
 "nbformat": 4,
 "nbformat_minor": 5
}
