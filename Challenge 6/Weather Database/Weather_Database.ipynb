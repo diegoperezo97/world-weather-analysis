{
 "cells": [
  {
   "cell_type": "markdown",
   "id": "29bf6b35",
   "metadata": {},
   "source": [
    "# Deliverable 1: Retrieve Weather Data"
   ]
  },
  {
   "cell_type": "code",
   "execution_count": null,
   "id": "7630b970",
   "metadata": {},
   "outputs": [],
   "source": [
    "# Import the dependencies:\n",
    "import gmaps\n",
    "import matplotlib.pyplot as plt\n",
    "import numpy as np\n",
    "import pandas as pd\n",
    "import random\n",
    "import requests\n",
    "import time\n",
    "import timeit\n",
    "from citipy import citipy\n",
    "from config import appid, g_key\n",
    "from datetime import datetime\n",
    "from scipy.stats import linregress"
   ]
  },
  {
   "cell_type": "code",
   "execution_count": null,
   "id": "12ce01a9",
   "metadata": {},
   "outputs": [],
   "source": [
    "# Create an empty list to hold the weather data:\n",
    "city_data = []\n",
    "\n",
    "# Print the beginning of the logging:\n",
    "print(\"Beginning Data Retrieval:                         \")\n",
    "print(\"--------------------------------------------------\")\n",
    "\n",
    "# Create counters:\n",
    "record_count = 1\n",
    "set_count = 1"
   ]
  },
  {
   "cell_type": "code",
   "execution_count": null,
   "id": "30a19f57",
   "metadata": {},
   "outputs": [],
   "source": [
    "# Create a set of random latitude and longitude combinations:\n",
    "lats = np.random.uniform(low=-90.000, high=90.000, size=2000)\n",
    "lngs = np.random.uniform(low=-180.000, high=180.000, size=2000)\n",
    "lat_lngs = zip(lats, lngs)\n",
    "lat_lngs"
   ]
  },
  {
   "cell_type": "code",
   "execution_count": null,
   "id": "e56d6c21",
   "metadata": {},
   "outputs": [],
   "source": [
    "# Add the latitudes and longitudes to a list:\n",
    "coordinates = list(lat_lngs)"
   ]
  },
  {
   "cell_type": "code",
   "execution_count": null,
   "id": "5238b0a7",
   "metadata": {},
   "outputs": [],
   "source": [
    "# Create a list for holding the cities:\n",
    "cities = []\n",
    "\n",
    "# Identify the nearest city for each latitude and longitude combination:\n",
    "for coordinate in coordinates:\n",
    "    city = citipy.nearest_city(coordinate[0], coordinate[1]).city_name\n",
    "    \n",
    "    # If the city is unique, then we will add it to the cities list:\n",
    "    if city not in cities:\n",
    "        cities.append(city)\n",
    "        \n",
    "# Print the city count to confimr sufficient count:\n",
    "len(cities)"
   ]
  },
  {
   "cell_type": "code",
   "execution_count": null,
   "id": "79ba476b",
   "metadata": {},
   "outputs": [],
   "source": [
    "url = \"http://api.openweathermap.org/data/2.5/weather?\"\n",
    "\n",
    "# Loop through all the cities in our list:\n",
    "for i, city in enumerate(cities):\n",
    "    \n",
    "    # Group cities in sets of 50 for logging purposes:\n",
    "    if (i % 50 == 0 and i >= 50):\n",
    "        set_count += 1\n",
    "        record_count = 1\n",
    "        time.sleep(60)\n",
    "        \n",
    "    # Create endpoint URL with each city:\n",
    "    city_url = url + \"appid=\" + appid + \"%q=\" + city.replace(\" \", \"+\")\n",
    "    \n",
    "    # Log the URL, record, and set numbers and the city:\n",
    "    print(f\"Processing Record {record_count} of set {set_count} | {city}\")\n",
    "    \n",
    "    # Add 1 to the record count:\n",
    "    record_count += 1\n",
    "    \n",
    "    # Run an API request for each of the cities:\n",
    "    try:\n",
    "        # Parse the JSON and retrieve data:\n",
    "        city_weather = requests.get(city_url).json()\n",
    "        \n",
    "        # Parse out the needed data:\n",
    "        city_lat = city_weather[\"coord\"][\"lat\"]\n",
    "        city_lng = city_weather[\"coord\"][\"lon\"]\n",
    "        city_max_temp = city_weaher[\"main\"][\"temp_max\"]\n",
    "        city_humidity = city_weather[\"main\"][\"humidity\"]\n",
    "        city_clouds = city_weather[\"clouds\"][\"all\"]\n",
    "        city_wind = city_weather[\"wind\"][\"speed\"]\n",
    "        city_country = city_weather[\"sys\"][\"country\"]\n",
    "        city_description = city_weather[\"weather\"][0][\"description\"]\n",
    "        \n",
    "        # Append the city information into the city_data list:\n",
    "        city_data.append({\"City\": city.title(),\n",
    "                          \"Country\": city_country,\n",
    "                          \"Lat\": city_lat,\n",
    "                          \"Lng\": city_lng,\n",
    "                          \"Max Temp\": city_max_temp,\n",
    "                          \"Humidity\": city_humidity,\n",
    "                          \"Cloudiness\": city_clouds,\n",
    "                          \"Wind Speed\": city_wind,\n",
    "                          \"Current Description\": city_description})\n",
    "        \n",
    "        # If an error is experienced, skip the city:\n",
    "    except:\n",
    "        print(\"City not found. Skipping...\")\n",
    "        pass\n",
    "    \n",
    "# Indicate that Data Loading is complete:\n",
    "print(\"--------------------------------------------------\")\n",
    "print(\"Data Retrieval Complete:                          \")\n",
    "print(\"--------------------------------------------------\")"
   ]
  },
  {
   "cell_type": "code",
   "execution_count": null,
   "id": "73d474d8",
   "metadata": {},
   "outputs": [],
   "source": [
    "# Convert the array of dictionaries to a Pandas DataFrame:\n",
    "city_data_df = pd.DataFrame(city_data)\n",
    "city_data_df.head(10)"
   ]
  },
  {
   "cell_type": "code",
   "execution_count": null,
   "id": "51ed53f5",
   "metadata": {},
   "outputs": [],
   "source": [
    "# Create the output file (CSV):\n",
    "output_data_file = \"/Users/diegoperezo97/Documents/Tecnológico de Monterrey – Data Analytics Boot Camp/world-weather-analysis/Module 6/Challenge 6/Weather Database/WeatherPy_database.csv\"\n",
    "\n",
    "# Export the city_data_df into a CSV:\n",
    "city_data_df.to_csv(output_data_file, index_label=\"City_ID\")\n",
    "city_data_df.head()"
   ]
  }
 ],
 "metadata": {
  "kernelspec": {
   "display_name": "Python 3",
   "language": "python",
   "name": "python3"
  },
  "language_info": {
   "codemirror_mode": {
    "name": "ipython",
    "version": 3
   },
   "file_extension": ".py",
   "mimetype": "text/x-python",
   "name": "python",
   "nbconvert_exporter": "python",
   "pygments_lexer": "ipython3",
   "version": "3.9.7"
  }
 },
 "nbformat": 4,
 "nbformat_minor": 5
}
